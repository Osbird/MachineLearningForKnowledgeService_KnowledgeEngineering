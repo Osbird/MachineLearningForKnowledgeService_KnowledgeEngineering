{
  "nbformat": 4,
  "nbformat_minor": 0,
  "metadata": {
    "colab": {
      "name": "[hw3]20186484.ipynb",
      "version": "0.3.2",
      "provenance": [],
      "collapsed_sections": [],
      "include_colab_link": true
    },
    "language_info": {
      "codemirror_mode": {
        "name": "ipython",
        "version": 3
      },
      "file_extension": ".py",
      "mimetype": "text/x-python",
      "name": "python",
      "nbconvert_exporter": "python",
      "pygments_lexer": "ipython3",
      "version": "3.5.2"
    },
    "kernelspec": {
      "name": "python3",
      "display_name": "Python 3"
    },
    "accelerator": "GPU"
  },
  "cells": [
    {
      "cell_type": "markdown",
      "metadata": {
        "id": "view-in-github",
        "colab_type": "text"
      },
      "source": [
        "<a href=\"https://colab.research.google.com/github/Osbird/MachineLearningForKnowledgeService_KnowledgeEngineering/blob/master/MachineLearningForKnowledgeService/%5Bhw3%5DCNN%20on%20CIFAR10.ipynb\" target=\"_parent\"><img src=\"https://colab.research.google.com/assets/colab-badge.svg\" alt=\"Open In Colab\"/></a>"
      ]
    },
    {
      "cell_type": "markdown",
      "metadata": {
        "id": "59G7In95w8ui",
        "colab_type": "text"
      },
      "source": [
        "# CNN on CIFAR10 dataset\n",
        "### Requirements: \n",
        "    - Python indentation size = 4 \n",
        "    \n",
        "### Should have: \n",
        "    - Enable hardware acceleration by gpu if using google colab. "
      ]
    },
    {
      "cell_type": "code",
      "metadata": {
        "id": "n62SpffPnOfs",
        "colab_type": "code",
        "outputId": "fa6b26d8-eb32-4cb1-f1dc-f8e804f7949a",
        "colab": {
          "base_uri": "https://localhost:8080/",
          "height": 34
        }
      },
      "source": [
        "import numpy as np\n",
        "\n",
        "import torch\n",
        "import torch.nn as nn\n",
        "import torchvision.datasets as dsets\n",
        "import torchvision.transforms as transforms\n",
        "\n",
        "from torchsummary import summary\n",
        "from tqdm import tqdm\n",
        "\n",
        "torch.cuda.is_available()"
      ],
      "execution_count": 0,
      "outputs": [
        {
          "output_type": "execute_result",
          "data": {
            "text/plain": [
              "True"
            ]
          },
          "metadata": {
            "tags": []
          },
          "execution_count": 1
        }
      ]
    },
    {
      "cell_type": "markdown",
      "metadata": {
        "id": "ftTg6fbdDCNT",
        "colab_type": "text"
      },
      "source": [
        "## Plotting setup"
      ]
    },
    {
      "cell_type": "code",
      "metadata": {
        "id": "7Xgg7E2wDE2T",
        "colab_type": "code",
        "colab": {}
      },
      "source": [
        "import matplotlib as mpl\n",
        "import matplotlib.pyplot as plt\n",
        "import seaborn as sns\n",
        "import warnings; warnings.filterwarnings(action='once')\n",
        "\n",
        "large = 22; med = 16; small = 12\n",
        "params = {'axes.titlesize': large,\n",
        "          'legend.fontsize': med,\n",
        "          'figure.figsize': (16, 10),\n",
        "          'axes.labelsize': med,\n",
        "          'axes.titlesize': med,\n",
        "          'xtick.labelsize': med,\n",
        "          'ytick.labelsize': med,\n",
        "          'figure.titlesize': large}\n",
        "\n",
        "plt.rcParams.update(params)\n",
        "plt.style.use('seaborn-whitegrid')\n",
        "sns.set_style(\"white\")\n",
        "%matplotlib inline"
      ],
      "execution_count": 0,
      "outputs": []
    },
    {
      "cell_type": "code",
      "metadata": {
        "colab_type": "code",
        "id": "3gG7tUAGUCWn",
        "colab": {}
      },
      "source": [
        "# Global Variable For training\n",
        "# You just use the following hyper-parameters\n",
        "BATCH_SIZE = 100\n",
        "NUM_EPOCH = 50\n",
        "LEARNING_RATE = 0.01\n",
        "CRITERION = nn.CrossEntropyLoss()"
      ],
      "execution_count": 0,
      "outputs": []
    },
    {
      "cell_type": "code",
      "metadata": {
        "id": "WpgRh3u9nOf-",
        "colab_type": "code",
        "outputId": "c7df5027-84ae-4f3b-8339-27eeb60aa58f",
        "colab": {
          "base_uri": "https://localhost:8080/",
          "height": 34
        }
      },
      "source": [
        "# CIFAR10 Dataset\n",
        "train_dataset = dsets.CIFAR10(root='./data', train=True, transform=transforms.ToTensor(), download=True)\n",
        "test_dataset = dsets.CIFAR10(root='./data', train=False, transform=transforms.ToTensor())\n",
        "\n",
        "train_loader = torch.utils.data.DataLoader(dataset=train_dataset, batch_size=BATCH_SIZE, shuffle=True)\n",
        "test_loader = torch.utils.data.DataLoader(dataset=test_dataset, batch_size=BATCH_SIZE, shuffle=False)"
      ],
      "execution_count": 0,
      "outputs": [
        {
          "output_type": "stream",
          "text": [
            "Files already downloaded and verified\n"
          ],
          "name": "stdout"
        }
      ]
    },
    {
      "cell_type": "code",
      "metadata": {
        "id": "8lBINCeVnOgC",
        "colab_type": "code",
        "colab": {}
      },
      "source": [
        "def fit(model,train_loader):\n",
        "    model.train()\n",
        "    device = next(model.parameters()).device.index\n",
        "    optimizer = torch.optim.SGD(model.parameters(), lr=LEARNING_RATE, momentum=0.9)\n",
        "    losses = []\n",
        "    for i, data in enumerate(train_loader):\n",
        "        image = data[0].type(torch.FloatTensor).cuda(device)\n",
        "        label = data[1].type(torch.LongTensor).cuda(device)\n",
        "\n",
        "        pred_label = model(image)\n",
        "        loss = CRITERION(pred_label, label)\n",
        "        losses.append(loss.item())\n",
        "\n",
        "        optimizer.zero_grad()\n",
        "        loss.backward()\n",
        "        optimizer.step()\n",
        "    avg_loss = sum(losses)/len(losses)\n",
        "    return avg_loss"
      ],
      "execution_count": 0,
      "outputs": []
    },
    {
      "cell_type": "code",
      "metadata": {
        "id": "V5GVY1z6nOgH",
        "colab_type": "code",
        "colab": {}
      },
      "source": [
        "def eval(model, test_loader):\n",
        "    model.eval()\n",
        "    device = next(model.parameters()).device.index\n",
        "    pred_labels = []\n",
        "    real_labels = []\n",
        "\n",
        "    for i, data in enumerate(test_loader):\n",
        "        image = data[0].type(torch.FloatTensor).cuda(device)\n",
        "        label = data[1].type(torch.LongTensor).cuda(device)\n",
        "        real_labels += list(label.cpu().detach().numpy())\n",
        "        \n",
        "        pred_label = model(image)\n",
        "        pred_label = list(pred_label.cpu().detach().numpy())\n",
        "        pred_labels += pred_label\n",
        "        \n",
        "    real_labels = np.array(real_labels)\n",
        "    pred_labels = np.array(pred_labels)\n",
        "    pred_labels = pred_labels.argmax(axis=1)\n",
        "    acc = sum(real_labels==pred_labels)/len(real_labels)*100\n",
        "    \n",
        "    return acc"
      ],
      "execution_count": 0,
      "outputs": []
    },
    {
      "cell_type": "markdown",
      "metadata": {
        "id": "uo1vYsE_nOgr",
        "colab_type": "text"
      },
      "source": [
        "# Task1: Compare between simple MLP and simple CNN"
      ]
    },
    {
      "cell_type": "markdown",
      "metadata": {
        "id": "dC4g8Cl8nOgs",
        "colab_type": "text"
      },
      "source": [
        "### MLP"
      ]
    },
    {
      "cell_type": "code",
      "metadata": {
        "colab_type": "code",
        "id": "fioBny6wW_fO",
        "colab": {}
      },
      "source": [
        "class SimpleMLP(nn.Module):\n",
        "    def __init__(self):\n",
        "        super(SimpleMLP, self).__init__()\n",
        "        # Fully-connected layer\n",
        "        self.fc1_1 = nn.Linear(3*32*32, 8*28*28)\n",
        "        self.act1_1 = nn.ReLU()\n",
        "        self.fc1_2 = nn.Linear(8*28*28, 8*24*24)\n",
        "        self.act1_2 = nn.ReLU()\n",
        "        self.pool1 = nn.MaxPool2d(2)\n",
        "        \n",
        "        self.fc2_1 = nn.Linear(8*12*12, 16*8*8)\n",
        "        self.act2_1 = nn.ReLU()\n",
        "        self.fc2_2 = nn.Linear(16*8*8, 16*4*4)\n",
        "        self.act2_2 = nn.ReLU()\n",
        "        self.pool2 = nn.MaxPool2d(2)\n",
        "\n",
        "        # Output layer\n",
        "        self.out = nn.Linear(16*2*2, 10)\n",
        "        \n",
        "    def forward(self, x):\n",
        "        x = x.view(-1, 3*32*32)\n",
        "        \n",
        "        x = self.act1_1(self.fc1_1(x))\n",
        "        x = self.act1_2(self.fc1_2(x))\n",
        "        x = x.view(-1, 8, 24, 24)\n",
        "        x = self.pool1(x)\n",
        "        x = x.view(-1, 8*12*12)\n",
        "        \n",
        "        x = self.act2_1(self.fc2_1(x))\n",
        "        x = self.act2_2(self.fc2_2(x))\n",
        "        x = x.view(-1, 16, 4, 4)\n",
        "        x = self.pool2(x)\n",
        "        x = x.view(-1, 16*2*2)\n",
        "\n",
        "        out = self.out(x)\n",
        "        return out"
      ],
      "execution_count": 0,
      "outputs": []
    },
    {
      "cell_type": "code",
      "metadata": {
        "id": "90m2YWUgnOg1",
        "colab_type": "code",
        "outputId": "5ee16702-5fd4-45ce-a75a-d919acac9416",
        "colab": {
          "base_uri": "https://localhost:8080/",
          "height": 442
        }
      },
      "source": [
        "mlp_model = SimpleMLP().cuda()\n",
        "train_loss1 = []\n",
        "test_accuracy1 = []\n",
        "for epoch in tqdm(range(NUM_EPOCH)):\n",
        "    train_loss1.append(fit(mlp_model, train_loader))\n",
        "    test_accuracy1.append(eval(mlp_model, test_loader))\n",
        "summary(mlp_model, input_size = (3,32,32))"
      ],
      "execution_count": 0,
      "outputs": [
        {
          "output_type": "stream",
          "text": [
            "100%|██████████| 50/50 [08:20<00:00, 10.13s/it]"
          ],
          "name": "stderr"
        },
        {
          "output_type": "stream",
          "text": [
            "----------------------------------------------------------------\n",
            "        Layer (type)               Output Shape         Param #\n",
            "================================================================\n",
            "            Linear-1                 [-1, 6272]      19,273,856\n",
            "              ReLU-2                 [-1, 6272]               0\n",
            "            Linear-3                 [-1, 4608]      28,905,984\n",
            "              ReLU-4                 [-1, 4608]               0\n",
            "         MaxPool2d-5            [-1, 8, 12, 12]               0\n",
            "            Linear-6                 [-1, 1024]       1,180,672\n",
            "              ReLU-7                 [-1, 1024]               0\n",
            "            Linear-8                  [-1, 256]         262,400\n",
            "              ReLU-9                  [-1, 256]               0\n",
            "        MaxPool2d-10             [-1, 16, 2, 2]               0\n",
            "           Linear-11                   [-1, 10]             650\n",
            "================================================================\n",
            "Total params: 49,623,562\n",
            "Trainable params: 49,623,562\n",
            "Non-trainable params: 0\n",
            "----------------------------------------------------------------\n",
            "Input size (MB): 0.01\n",
            "Forward/backward pass size (MB): 0.19\n",
            "Params size (MB): 189.30\n",
            "Estimated Total Size (MB): 189.51\n",
            "----------------------------------------------------------------\n"
          ],
          "name": "stdout"
        },
        {
          "output_type": "stream",
          "text": [
            "\n"
          ],
          "name": "stderr"
        }
      ]
    },
    {
      "cell_type": "markdown",
      "metadata": {
        "id": "kL7ApoNsnOhB",
        "colab_type": "text"
      },
      "source": [
        "### CNN"
      ]
    },
    {
      "cell_type": "code",
      "metadata": {
        "colab_type": "code",
        "id": "N4uzKB3rXInS",
        "colab": {}
      },
      "source": [
        "class SimpleCNN(nn.Module):\n",
        "    def __init__(self):\n",
        "        super(SimpleCNN, self).__init__()\n",
        "        \"\"\"\n",
        "        fill in this part\n",
        "        \"\"\"\n",
        "        # https://pytorch.org/docs/stable/nn.html#conv2d\n",
        "        # torch.nn.Conv2d(in_channels, out_channels, kernel_size, stride=1, padding=0, dilation=1, groups=1, bias=True)        \n",
        "        self.convBlock1 = nn.Sequential(         \n",
        "            nn.Conv2d(3,8,5),               \n",
        "            nn.ReLU(),   \n",
        "            nn.Conv2d(8,8,5),\n",
        "            nn.ReLU(),\n",
        "            nn.MaxPool2d(2,2)\n",
        "        )\n",
        "        \n",
        "        self.convBlock2 = nn.Sequential(\n",
        "            nn.Conv2d(8,16,5), # in 8, out 16, kernel 5\n",
        "            nn.ReLU(),\n",
        "            nn.Conv2d(16,16,5), \n",
        "            nn.ReLU(),\n",
        "            nn.MaxPool2d(2,2) # pool, output shape after layer is 16, 2, 2\n",
        "        )\n",
        "\n",
        "        # Output layer\n",
        "        self.out = nn.Linear(16*2*2, 10)\n",
        "        \n",
        "        \n",
        "    def forward(self, x):\n",
        "        \"\"\"\n",
        "        fill in this part\n",
        "        \"\"\"\n",
        "        x = self.convBlock1(x)\n",
        "        x = self.convBlock2(x)\n",
        "        x = x.view(-1, 16*2*2)\n",
        "        x = self.out(x)\n",
        "        return x\n",
        "        "
      ],
      "execution_count": 0,
      "outputs": []
    },
    {
      "cell_type": "code",
      "metadata": {
        "colab_type": "code",
        "id": "MpPR_-ZIWFHm",
        "scrolled": true,
        "outputId": "bffc0f6c-11ab-4eee-830e-2624a3fdcc6f",
        "colab": {
          "base_uri": "https://localhost:8080/",
          "height": 442
        }
      },
      "source": [
        "cnn_model = SimpleCNN().cuda()\n",
        "train_loss2 = []\n",
        "test_accuracy2 = []\n",
        "for epoch in tqdm(range(NUM_EPOCH)):\n",
        "    train_loss2.append(fit(cnn_model, train_loader))\n",
        "    test_accuracy2.append(eval(cnn_model, test_loader))\n",
        "summary(cnn_model, input_size = (3,32,32))"
      ],
      "execution_count": 0,
      "outputs": [
        {
          "output_type": "stream",
          "text": [
            "100%|██████████| 50/50 [06:37<00:00,  7.98s/it]"
          ],
          "name": "stderr"
        },
        {
          "output_type": "stream",
          "text": [
            "----------------------------------------------------------------\n",
            "        Layer (type)               Output Shape         Param #\n",
            "================================================================\n",
            "            Conv2d-1            [-1, 8, 28, 28]             608\n",
            "              ReLU-2            [-1, 8, 28, 28]               0\n",
            "            Conv2d-3            [-1, 8, 24, 24]           1,608\n",
            "              ReLU-4            [-1, 8, 24, 24]               0\n",
            "         MaxPool2d-5            [-1, 8, 12, 12]               0\n",
            "            Conv2d-6             [-1, 16, 8, 8]           3,216\n",
            "              ReLU-7             [-1, 16, 8, 8]               0\n",
            "            Conv2d-8             [-1, 16, 4, 4]           6,416\n",
            "              ReLU-9             [-1, 16, 4, 4]               0\n",
            "        MaxPool2d-10             [-1, 16, 2, 2]               0\n",
            "           Linear-11                   [-1, 10]             650\n",
            "================================================================\n",
            "Total params: 12,498\n",
            "Trainable params: 12,498\n",
            "Non-trainable params: 0\n",
            "----------------------------------------------------------------\n",
            "Input size (MB): 0.01\n",
            "Forward/backward pass size (MB): 0.19\n",
            "Params size (MB): 0.05\n",
            "Estimated Total Size (MB): 0.25\n",
            "----------------------------------------------------------------\n"
          ],
          "name": "stdout"
        },
        {
          "output_type": "stream",
          "text": [
            "\n"
          ],
          "name": "stderr"
        }
      ]
    },
    {
      "cell_type": "markdown",
      "metadata": {
        "id": "xIBaSYDEEuWS",
        "colab_type": "text"
      },
      "source": [
        "### Plots"
      ]
    },
    {
      "cell_type": "code",
      "metadata": {
        "id": "ec5LQi4F_2h_",
        "colab_type": "code",
        "outputId": "8a7657e5-1391-4bf7-9e69-be6b339294ca",
        "colab": {
          "base_uri": "https://localhost:8080/",
          "height": 591
        }
      },
      "source": [
        "def plotData(listOfLossLabelTuples, xLabel, yLabel, num_epoch):\n",
        "    fig, ax = plt.subplots()\n",
        "    labels = []\n",
        "    for elem in listOfLossLabelTuples:\n",
        "        ax.plot(range(num_epoch), elem[0], label=elem[1])\n",
        "        labels.append(elem[1])\n",
        "    ax.legend()\n",
        "    ax.set(xlabel=xLabel, ylabel=yLabel,\n",
        "           title=yLabel+' per '+xLabel+': '+' vs '.join(labels))\n",
        "    ax.grid()\n",
        "\n",
        "\n",
        "\n",
        "# loss per epoch\n",
        "plotData([(train_loss1, 'MLP'), (train_loss2, 'CNN')], 'Epochs', 'Loss', NUM_EPOCH)\n",
        "\n",
        "#Accuracy per epoch\n",
        "plotData([(test_accuracy1, 'MLP'), (test_accuracy2, 'CNN')], 'Epochs', 'Accuracy', NUM_EPOCH)"
      ],
      "execution_count": 0,
      "outputs": [
        {
          "output_type": "display_data",
          "data": {
            "image/png": "[encoded data removed]",
            "text/plain": [
              "<Figure size 432x288 with 1 Axes>"
            ]
          },
          "metadata": {
            "tags": []
          }
        },
        {
          "output_type": "display_data",
          "data": {
            "image/png": "[encoded data removed]",
            "text/plain": [
              "<Figure size 432x288 with 1 Axes>"
            ]
          },
          "metadata": {
            "tags": []
          }
        }
      ]
    },
    {
      "cell_type": "markdown",
      "metadata": {
        "id": "eo8VpO8AnOhS",
        "colab_type": "text"
      },
      "source": [
        "# Task 2: Make a simple VGG and ResNet for CIFAR10"
      ]
    },
    {
      "cell_type": "markdown",
      "metadata": {
        "id": "tFCjbRF_nOhT",
        "colab_type": "text"
      },
      "source": [
        "### VGG"
      ]
    },
    {
      "cell_type": "code",
      "metadata": {
        "id": "J_LrSiOgnOhU",
        "colab_type": "code",
        "colab": {}
      },
      "source": [
        "class SimpleVGG(nn.Module):\n",
        "    def __init__(self):\n",
        "        super(SimpleVGG, self).__init__()\n",
        "        \"\"\"\n",
        "        fill in this part\n",
        "        \"\"\"\n",
        "        \n",
        "\t\t# torch.nn.Conv2d(in_channels, out_channels, kernel_size, stride=1, padding=0, dilation=1, groups=1, bias=True)\n",
        "        # input is 32x32x3\n",
        "        self.convBlock1 = nn.Sequential(\n",
        "            nn.Conv2d(in_channels=3,out_channels=32,kernel_size=3,stride=1,padding=1),\n",
        "            nn.ReLU(),   \n",
        "            nn.Conv2d(in_channels=32,out_channels=32,kernel_size=3,stride=1,padding=1),\n",
        "            nn.ReLU(),\n",
        "            nn.MaxPool2d(2,2),\n",
        "        )\n",
        "        \n",
        "        self.convBlock2 = nn.Sequential(\n",
        "            nn.Conv2d(in_channels=32,out_channels=64,kernel_size=3,stride=1,padding=1),\n",
        "            nn.ReLU(),\n",
        "            nn.Conv2d(in_channels=64,out_channels=64,kernel_size=3,stride=1,padding=1),\n",
        "            nn.ReLU(),\n",
        "            nn.Conv2d(in_channels=64,out_channels=64,kernel_size=3,stride=1,padding=1),\n",
        "            nn.ReLU(),\n",
        "            nn.MaxPool2d(2,2)\n",
        "        )\n",
        "        \n",
        "        self.convBlock3 = nn.Sequential(\n",
        "            nn.Conv2d(in_channels=64,out_channels=128,kernel_size=3,stride=1,padding=1),\n",
        "            nn.ReLU(),\n",
        "\t\t\tnn.Conv2d(in_channels=128,out_channels=128,kernel_size=3,stride=1,padding=1),\n",
        "            nn.ReLU(),\n",
        "\t\t\tnn.Conv2d(in_channels=128,out_channels=128,kernel_size=3,stride=1,padding=1),\n",
        "            nn.ReLU(),\n",
        "            nn.AvgPool2d(kernel_size=8,stride=8)\n",
        "        )\n",
        "        \n",
        "        self.out = nn.Linear(128, 10)\n",
        "        \n",
        "        \n",
        "    def forward(self, x):\n",
        "        \"\"\"\n",
        "        fill in this part\n",
        "        \"\"\"\n",
        "        x = self.convBlock1(x)\n",
        "        x = self.convBlock2(x)\n",
        "        x = self.convBlock3(x)\n",
        "        x = x.view(-1, 128)\n",
        "        x = self.out(x)\n",
        "        return x\n",
        "        "
      ],
      "execution_count": 0,
      "outputs": []
    },
    {
      "cell_type": "code",
      "metadata": {
        "id": "MpoMfDLinOhX",
        "colab_type": "code",
        "outputId": "6185e7d7-f269-4b2d-d5c8-401653a5dfeb",
        "colab": {
          "base_uri": "https://localhost:8080/",
          "height": 595
        }
      },
      "source": [
        "vgg_model = SimpleVGG().cuda()\n",
        "train_loss3 = []\n",
        "test_accuracy3 = []\n",
        "for epoch in tqdm(range(NUM_EPOCH)):\n",
        "    train_loss3.append(fit(vgg_model, train_loader))\n",
        "    test_accuracy3.append(eval(vgg_model, test_loader))\n",
        "summary(vgg_model, input_size = (3,32,32))"
      ],
      "execution_count": 0,
      "outputs": [
        {
          "output_type": "stream",
          "text": [
            "100%|██████████| 50/50 [10:01<00:00, 12.08s/it]"
          ],
          "name": "stderr"
        },
        {
          "output_type": "stream",
          "text": [
            "----------------------------------------------------------------\n",
            "        Layer (type)               Output Shape         Param #\n",
            "================================================================\n",
            "            Conv2d-1           [-1, 32, 32, 32]             896\n",
            "              ReLU-2           [-1, 32, 32, 32]               0\n",
            "            Conv2d-3           [-1, 32, 32, 32]           9,248\n",
            "              ReLU-4           [-1, 32, 32, 32]               0\n",
            "         MaxPool2d-5           [-1, 32, 16, 16]               0\n",
            "            Conv2d-6           [-1, 64, 16, 16]          18,496\n",
            "              ReLU-7           [-1, 64, 16, 16]               0\n",
            "            Conv2d-8           [-1, 64, 16, 16]          36,928\n",
            "              ReLU-9           [-1, 64, 16, 16]               0\n",
            "           Conv2d-10           [-1, 64, 16, 16]          36,928\n",
            "             ReLU-11           [-1, 64, 16, 16]               0\n",
            "        MaxPool2d-12             [-1, 64, 8, 8]               0\n",
            "           Conv2d-13            [-1, 128, 8, 8]          73,856\n",
            "             ReLU-14            [-1, 128, 8, 8]               0\n",
            "           Conv2d-15            [-1, 128, 8, 8]         147,584\n",
            "             ReLU-16            [-1, 128, 8, 8]               0\n",
            "           Conv2d-17            [-1, 128, 8, 8]         147,584\n",
            "             ReLU-18            [-1, 128, 8, 8]               0\n",
            "        AvgPool2d-19            [-1, 128, 1, 1]               0\n",
            "           Linear-20                   [-1, 10]           1,290\n",
            "================================================================\n",
            "Total params: 472,810\n",
            "Trainable params: 472,810\n",
            "Non-trainable params: 0\n",
            "----------------------------------------------------------------\n",
            "Input size (MB): 0.01\n",
            "Forward/backward pass size (MB): 2.22\n",
            "Params size (MB): 1.80\n",
            "Estimated Total Size (MB): 4.04\n",
            "----------------------------------------------------------------\n"
          ],
          "name": "stdout"
        },
        {
          "output_type": "stream",
          "text": [
            "\n"
          ],
          "name": "stderr"
        }
      ]
    },
    {
      "cell_type": "markdown",
      "metadata": {
        "id": "DXTq2IV6nOhi",
        "colab_type": "text"
      },
      "source": [
        "### ResNet"
      ]
    },
    {
      "cell_type": "code",
      "metadata": {
        "id": "CFqgpGUCnOhn",
        "colab_type": "code",
        "colab": {}
      },
      "source": [
        "class SimpleResNet(nn.Module):\n",
        "    def __init__(self):\n",
        "        super(SimpleResNet, self).__init__()\n",
        "        \"\"\"\n",
        "        fill in this part\n",
        "        \"\"\"\n",
        "        self.convBlock_position1 = nn.Sequential(\n",
        "            nn.Conv2d(in_channels=3,out_channels=32,kernel_size=3,stride=1,padding=1),\n",
        "            nn.ReLU(),   \n",
        "            nn.Conv2d(in_channels=32,out_channels=32,kernel_size=3,stride=1,padding=1),\n",
        "            nn.ReLU(),\n",
        "            nn.MaxPool2d(2,2),\n",
        "            nn.Conv2d(in_channels=32,out_channels=64,kernel_size=3,stride=1,padding=1),\n",
        "            nn.ReLU()\n",
        "        )\n",
        "        \n",
        "        self.residualBlock_position2 = nn.Sequential(\n",
        "            \n",
        "          \t#Shortcut path here\n",
        "            nn.Conv2d(in_channels=64,out_channels=64,kernel_size=3,stride=1,padding=1),\n",
        "            nn.ReLU(),\n",
        "            nn.Conv2d(in_channels=64,out_channels=64,kernel_size=3,stride=1,padding=1),\n",
        "          \t# shortcut to here\n",
        "            \n",
        "        )\n",
        "        \n",
        "        self.convBlock_position3 = nn.Sequential(\n",
        "            nn.ReLU(),\n",
        "            nn.MaxPool2d(2,2),\n",
        "            nn.Conv2d(in_channels=64,out_channels=128,kernel_size=3,stride=1,padding=1),\n",
        "            nn.ReLU()\n",
        "        )\n",
        "        \n",
        "        self.residualBlock_position4 = nn.Sequential(\n",
        "            # shortcut from here\n",
        "            nn.Conv2d(in_channels=128,out_channels=128,kernel_size=3,stride=1,padding=1),\n",
        "            nn.ReLU(),\n",
        "\t\t\tnn.Conv2d(in_channels=128,out_channels=128,kernel_size=3,stride=1,padding=1),\n",
        "          \t# to here\n",
        "        )\n",
        "        \n",
        "        self.convBlock_position5 = nn.Sequential(\n",
        "            nn.ReLU(),\n",
        "            nn.AvgPool2d(kernel_size=8,stride=8)\n",
        "        )\n",
        "        \n",
        "        self.out = nn.Linear(128, 10)\n",
        "        \n",
        "        \n",
        "    def forward(self, x):\n",
        "        \"\"\"\n",
        "        fill in this part\n",
        "        \"\"\"\n",
        "        x = self.convBlock_position1(x)\n",
        "        residual = x\n",
        "        x = self.residualBlock_position2(x)\n",
        "        x = self.convBlock_position3(x+residual)\n",
        "        residual = x\n",
        "        x = self.residualBlock_position4(x)\n",
        "        x = self.convBlock_position5(x+residual)\n",
        "        x = x.view(-1, 128)\n",
        "        x = self.out(x)\n",
        "        return x\n",
        "        "
      ],
      "execution_count": 0,
      "outputs": []
    },
    {
      "cell_type": "code",
      "metadata": {
        "id": "N6aUsizvnOhy",
        "colab_type": "code",
        "outputId": "ff3c0703-3ea1-41dc-bac0-940c09257b16",
        "colab": {
          "base_uri": "https://localhost:8080/",
          "height": 595
        }
      },
      "source": [
        "resnet_model = SimpleResNet().cuda()\n",
        "train_loss4 = []\n",
        "test_accuracy4 = []\n",
        "for epoch in tqdm(range(NUM_EPOCH)):\n",
        "    train_loss4.append(fit(resnet_model, train_loader))\n",
        "    test_accuracy4.append(eval(resnet_model, test_loader))\n",
        "summary(resnet_model, input_size = (3,32,32))"
      ],
      "execution_count": 0,
      "outputs": [
        {
          "output_type": "stream",
          "text": [
            "100%|██████████| 50/50 [10:16<00:00, 12.31s/it]"
          ],
          "name": "stderr"
        },
        {
          "output_type": "stream",
          "text": [
            "----------------------------------------------------------------\n",
            "        Layer (type)               Output Shape         Param #\n",
            "================================================================\n",
            "            Conv2d-1           [-1, 32, 32, 32]             896\n",
            "              ReLU-2           [-1, 32, 32, 32]               0\n",
            "            Conv2d-3           [-1, 32, 32, 32]           9,248\n",
            "              ReLU-4           [-1, 32, 32, 32]               0\n",
            "         MaxPool2d-5           [-1, 32, 16, 16]               0\n",
            "            Conv2d-6           [-1, 64, 16, 16]          18,496\n",
            "              ReLU-7           [-1, 64, 16, 16]               0\n",
            "            Conv2d-8           [-1, 64, 16, 16]          36,928\n",
            "              ReLU-9           [-1, 64, 16, 16]               0\n",
            "           Conv2d-10           [-1, 64, 16, 16]          36,928\n",
            "             ReLU-11           [-1, 64, 16, 16]               0\n",
            "        MaxPool2d-12             [-1, 64, 8, 8]               0\n",
            "           Conv2d-13            [-1, 128, 8, 8]          73,856\n",
            "             ReLU-14            [-1, 128, 8, 8]               0\n",
            "           Conv2d-15            [-1, 128, 8, 8]         147,584\n",
            "             ReLU-16            [-1, 128, 8, 8]               0\n",
            "           Conv2d-17            [-1, 128, 8, 8]         147,584\n",
            "             ReLU-18            [-1, 128, 8, 8]               0\n",
            "        AvgPool2d-19            [-1, 128, 1, 1]               0\n",
            "           Linear-20                   [-1, 10]           1,290\n",
            "================================================================\n",
            "Total params: 472,810\n",
            "Trainable params: 472,810\n",
            "Non-trainable params: 0\n",
            "----------------------------------------------------------------\n",
            "Input size (MB): 0.01\n",
            "Forward/backward pass size (MB): 2.22\n",
            "Params size (MB): 1.80\n",
            "Estimated Total Size (MB): 4.04\n",
            "----------------------------------------------------------------\n"
          ],
          "name": "stdout"
        },
        {
          "output_type": "stream",
          "text": [
            "\n"
          ],
          "name": "stderr"
        }
      ]
    },
    {
      "cell_type": "code",
      "metadata": {
        "id": "KCK7DkuaG94Y",
        "colab_type": "code",
        "outputId": "d10b846b-b361-4e71-cbcb-22f22affc74e",
        "colab": {
          "base_uri": "https://localhost:8080/",
          "height": 591
        }
      },
      "source": [
        "# loss per epoch\n",
        "plotData([(train_loss3, 'VGG'), (train_loss4, 'ResNet')], 'Epochs', 'Loss', NUM_EPOCH)\n",
        "\n",
        "#accuracy per epoch\n",
        "plotData([(test_accuracy3, 'VGG'), (test_accuracy4, 'ResNet')], 'Epochs', 'Accuracy', NUM_EPOCH)"
      ],
      "execution_count": 0,
      "outputs": [
        {
          "output_type": "display_data",
          "data": {
            "image/png": "[encoded data removed]",
            "text/plain": [
              "<Figure size 432x288 with 1 Axes>"
            ]
          },
          "metadata": {
            "tags": []
          }
        },
        {
          "output_type": "display_data",
          "data": {
            "image/png": "[encoded data removed]",
            "text/plain": [
              "<Figure size 432x288 with 1 Axes>"
            ]
          },
          "metadata": {
            "tags": []
          }
        }
      ]
    },
    {
      "cell_type": "markdown",
      "metadata": {
        "id": "cXxbjrDFnOh1",
        "colab_type": "text"
      },
      "source": [
        "# Task 3 : Use various regularizers"
      ]
    },
    {
      "cell_type": "markdown",
      "metadata": {
        "id": "t3cj1U5UnOh2",
        "colab_type": "text"
      },
      "source": [
        "### ResNet + Batch Normalization"
      ]
    },
    {
      "cell_type": "code",
      "metadata": {
        "id": "q6wo11VsnOh3",
        "colab_type": "code",
        "colab": {}
      },
      "source": [
        "class ResNetBN(nn.Module):\n",
        "    def __init__(self):\n",
        "        super(ResNetBN, self).__init__()\n",
        "        \"\"\"\n",
        "        fill in this part\n",
        "        \"\"\"\n",
        "        self.convBlock_position1 = nn.Sequential(\n",
        "            nn.Conv2d(in_channels=3,out_channels=32,kernel_size=3,stride=1,padding=1),\n",
        "            nn.BatchNorm2d(32),\n",
        "            nn.ReLU(),   \n",
        "            nn.Conv2d(in_channels=32,out_channels=32,kernel_size=3,stride=1,padding=1),\n",
        "            nn.BatchNorm2d(32),\n",
        "            nn.ReLU(),\n",
        "            nn.MaxPool2d(2,2),\n",
        "            nn.Conv2d(in_channels=32,out_channels=64,kernel_size=3,stride=1,padding=1),\n",
        "            nn.BatchNorm2d(64),\n",
        "            nn.ReLU(),\n",
        "        )\n",
        "        \n",
        "        self.residualBlock_position2 = nn.Sequential(\n",
        "          \t#Shortcut path here\n",
        "            nn.Conv2d(in_channels=64,out_channels=64,kernel_size=3,stride=1,padding=1),\n",
        "            nn.BatchNorm2d(64),\n",
        "            nn.ReLU(),\n",
        "            nn.Conv2d(in_channels=64,out_channels=64,kernel_size=3,stride=1,padding=1),\n",
        "            nn.BatchNorm2d(64),\n",
        "          \t# shortcut to here\n",
        "        )\n",
        "        \n",
        "        self.convBlock_position3 = nn.Sequential(\n",
        "            nn.ReLU(),\n",
        "            nn.MaxPool2d(2,2),\n",
        "            nn.Conv2d(in_channels=64,out_channels=128,kernel_size=3,stride=1,padding=1),\n",
        "            nn.BatchNorm2d(128),\n",
        "            nn.ReLU()\n",
        "        )\n",
        "        \n",
        "        self.residualBlock_position4 = nn.Sequential(\n",
        "            # shortcut from here\n",
        "            nn.Conv2d(in_channels=128,out_channels=128,kernel_size=3,stride=1,padding=1),\n",
        "            nn.BatchNorm2d(128),\n",
        "            nn.ReLU(),\n",
        "\t\t\tnn.Conv2d(in_channels=128,out_channels=128,kernel_size=3,stride=1,padding=1),\n",
        "            nn.BatchNorm2d(128),\n",
        "          \t# to here\n",
        "        )\n",
        "        \n",
        "        self.convBlock_position5 = nn.Sequential(\n",
        "            nn.ReLU(),\n",
        "            nn.AvgPool2d(kernel_size=8,stride=8)\n",
        "        )\n",
        "        \n",
        "        self.out = nn.Linear(128, 10)\n",
        "        \n",
        "        \n",
        "    def forward(self, x):\n",
        "        \"\"\"\n",
        "        fill in this part\n",
        "        \"\"\"\n",
        "        x = self.convBlock_position1(x)\n",
        "        residual = x\n",
        "        x = self.residualBlock_position2(x)\n",
        "        x = self.convBlock_position3(x+residual)\n",
        "        residual = x\n",
        "        x = self.residualBlock_position4(x)\n",
        "        x = self.convBlock_position5(x+residual)\n",
        "        x = x.view(-1, 128)\n",
        "        x = self.out(x)\n",
        "        return x\n",
        "        "
      ],
      "execution_count": 0,
      "outputs": []
    },
    {
      "cell_type": "code",
      "metadata": {
        "id": "WV1IJivJnOh7",
        "colab_type": "code",
        "outputId": "76b37576-cb04-4e44-a1fb-e67d37416ac8",
        "colab": {
          "base_uri": "https://localhost:8080/",
          "height": 731
        }
      },
      "source": [
        "resnet_bn_model = ResNetBN().cuda()\n",
        "train_loss5 = []\n",
        "test_accuracy5 = []\n",
        "for epoch in tqdm(range(NUM_EPOCH)):\n",
        "    train_loss5.append(fit(resnet_bn_model, train_loader))\n",
        "    test_accuracy5.append(eval(resnet_bn_model, test_loader))\n",
        "summary(resnet_bn_model, input_size = (3,32,32))"
      ],
      "execution_count": 0,
      "outputs": [
        {
          "output_type": "stream",
          "text": [
            "100%|██████████| 50/50 [11:20<00:00, 13.59s/it]"
          ],
          "name": "stderr"
        },
        {
          "output_type": "stream",
          "text": [
            "----------------------------------------------------------------\n",
            "        Layer (type)               Output Shape         Param #\n",
            "================================================================\n",
            "            Conv2d-1           [-1, 32, 32, 32]             896\n",
            "       BatchNorm2d-2           [-1, 32, 32, 32]              64\n",
            "              ReLU-3           [-1, 32, 32, 32]               0\n",
            "            Conv2d-4           [-1, 32, 32, 32]           9,248\n",
            "       BatchNorm2d-5           [-1, 32, 32, 32]              64\n",
            "              ReLU-6           [-1, 32, 32, 32]               0\n",
            "         MaxPool2d-7           [-1, 32, 16, 16]               0\n",
            "            Conv2d-8           [-1, 64, 16, 16]          18,496\n",
            "       BatchNorm2d-9           [-1, 64, 16, 16]             128\n",
            "             ReLU-10           [-1, 64, 16, 16]               0\n",
            "           Conv2d-11           [-1, 64, 16, 16]          36,928\n",
            "      BatchNorm2d-12           [-1, 64, 16, 16]             128\n",
            "             ReLU-13           [-1, 64, 16, 16]               0\n",
            "           Conv2d-14           [-1, 64, 16, 16]          36,928\n",
            "      BatchNorm2d-15           [-1, 64, 16, 16]             128\n",
            "             ReLU-16           [-1, 64, 16, 16]               0\n",
            "        MaxPool2d-17             [-1, 64, 8, 8]               0\n",
            "           Conv2d-18            [-1, 128, 8, 8]          73,856\n",
            "      BatchNorm2d-19            [-1, 128, 8, 8]             256\n",
            "             ReLU-20            [-1, 128, 8, 8]               0\n",
            "           Conv2d-21            [-1, 128, 8, 8]         147,584\n",
            "      BatchNorm2d-22            [-1, 128, 8, 8]             256\n",
            "             ReLU-23            [-1, 128, 8, 8]               0\n",
            "           Conv2d-24            [-1, 128, 8, 8]         147,584\n",
            "      BatchNorm2d-25            [-1, 128, 8, 8]             256\n",
            "             ReLU-26            [-1, 128, 8, 8]               0\n",
            "        AvgPool2d-27            [-1, 128, 1, 1]               0\n",
            "           Linear-28                   [-1, 10]           1,290\n",
            "================================================================\n",
            "Total params: 474,090\n",
            "Trainable params: 474,090\n",
            "Non-trainable params: 0\n",
            "----------------------------------------------------------------\n",
            "Input size (MB): 0.01\n",
            "Forward/backward pass size (MB): 3.28\n",
            "Params size (MB): 1.81\n",
            "Estimated Total Size (MB): 5.10\n",
            "----------------------------------------------------------------\n"
          ],
          "name": "stdout"
        },
        {
          "output_type": "stream",
          "text": [
            "\n"
          ],
          "name": "stderr"
        }
      ]
    },
    {
      "cell_type": "markdown",
      "metadata": {
        "id": "NqOlxaohnOh-",
        "colab_type": "text"
      },
      "source": [
        "### ResNet + Dropout(p=0.5)"
      ]
    },
    {
      "cell_type": "code",
      "metadata": {
        "id": "hPZ0IJoZnOiK",
        "colab_type": "code",
        "colab": {}
      },
      "source": [
        "class ResNetDO(nn.Module):\n",
        "    def __init__(self):\n",
        "        super(ResNetDO, self).__init__()\n",
        "        \"\"\"\n",
        "        fill in this part\n",
        "        \"\"\"\n",
        "        self.convBlock_position1 = nn.Sequential(\n",
        "            nn.Conv2d(in_channels=3,out_channels=32,kernel_size=3,stride=1,padding=1),\n",
        "            nn.ReLU(),   \n",
        "            nn.Conv2d(in_channels=32,out_channels=32,kernel_size=3,stride=1,padding=1),\n",
        "            nn.ReLU(),\n",
        "            nn.MaxPool2d(2,2),\n",
        "            nn.Conv2d(in_channels=32,out_channels=64,kernel_size=3,stride=1,padding=1),\n",
        "            nn.ReLU(),\n",
        "        )\n",
        "        \n",
        "        self.residualBlock_position2 = nn.Sequential(\n",
        "            \n",
        "          \t#Shortcut path here\n",
        "            nn.Conv2d(in_channels=64,out_channels=64,kernel_size=3,stride=1,padding=1),\n",
        "            nn.ReLU(),\n",
        "            nn.Conv2d(in_channels=64,out_channels=64,kernel_size=3,stride=1,padding=1),\n",
        "          \t# shortcut to here\n",
        "            \n",
        "        )\n",
        "        \n",
        "        self.convBlock_position3 = nn.Sequential(\n",
        "            nn.ReLU(),\n",
        "            nn.MaxPool2d(2,2),\n",
        "            nn.Conv2d(in_channels=64,out_channels=128,kernel_size=3,stride=1,padding=1),\n",
        "            nn.ReLU()\n",
        "        )\n",
        "        \n",
        "        self.residualBlock_position4 = nn.Sequential(\n",
        "            # shortcut from here\n",
        "            nn.Conv2d(in_channels=128,out_channels=128,kernel_size=3,stride=1,padding=1),\n",
        "            nn.ReLU(),\n",
        "\t\t\tnn.Conv2d(in_channels=128,out_channels=128,kernel_size=3,stride=1,padding=1),\n",
        "          \t# to here\n",
        "        )\n",
        "        \n",
        "        self.convBlock_position5 = nn.Sequential(\n",
        "            nn.ReLU(),\n",
        "            nn.AvgPool2d(kernel_size=8,stride=8)\n",
        "        )\n",
        "        \n",
        "        self.dropout = nn.Dropout(0.5)\n",
        "        \n",
        "        self.out = nn.Linear(128, 10)\n",
        "        \n",
        "        \n",
        "    def forward(self, x):\n",
        "        \"\"\"\n",
        "        fill in this part\n",
        "        \"\"\"\n",
        "        x = self.convBlock_position1(x)\n",
        "        residual = x\n",
        "        x = self.residualBlock_position2(x)\n",
        "        x = self.convBlock_position3(x+residual)\n",
        "        residual = x\n",
        "        x = self.residualBlock_position4(x)\n",
        "        x = self.convBlock_position5(x+residual)\n",
        "        x = x.view(-1, 128)\n",
        "        x = self.dropout(x)\n",
        "        x = self.out(x)\n",
        "        return x\n",
        "        "
      ],
      "execution_count": 0,
      "outputs": []
    },
    {
      "cell_type": "code",
      "metadata": {
        "id": "rc0vOzaKnOiS",
        "colab_type": "code",
        "outputId": "a140db43-17f3-4869-9b56-356e3f8c498f",
        "colab": {
          "base_uri": "https://localhost:8080/",
          "height": 612
        }
      },
      "source": [
        "resnet_do_model = ResNetDO().cuda()\n",
        "train_loss6 = []\n",
        "test_accuracy6 = []\n",
        "for epoch in tqdm(range(NUM_EPOCH)):\n",
        "    train_loss6.append(fit(resnet_do_model, train_loader))\n",
        "    test_accuracy6.append(eval(resnet_do_model, test_loader))\n",
        "summary(resnet_do_model, input_size = (3,32,32))"
      ],
      "execution_count": 0,
      "outputs": [
        {
          "output_type": "stream",
          "text": [
            "100%|██████████| 50/50 [10:17<00:00, 12.29s/it]"
          ],
          "name": "stderr"
        },
        {
          "output_type": "stream",
          "text": [
            "----------------------------------------------------------------\n",
            "        Layer (type)               Output Shape         Param #\n",
            "================================================================\n",
            "            Conv2d-1           [-1, 32, 32, 32]             896\n",
            "              ReLU-2           [-1, 32, 32, 32]               0\n",
            "            Conv2d-3           [-1, 32, 32, 32]           9,248\n",
            "              ReLU-4           [-1, 32, 32, 32]               0\n",
            "         MaxPool2d-5           [-1, 32, 16, 16]               0\n",
            "            Conv2d-6           [-1, 64, 16, 16]          18,496\n",
            "              ReLU-7           [-1, 64, 16, 16]               0\n",
            "            Conv2d-8           [-1, 64, 16, 16]          36,928\n",
            "              ReLU-9           [-1, 64, 16, 16]               0\n",
            "           Conv2d-10           [-1, 64, 16, 16]          36,928\n",
            "             ReLU-11           [-1, 64, 16, 16]               0\n",
            "        MaxPool2d-12             [-1, 64, 8, 8]               0\n",
            "           Conv2d-13            [-1, 128, 8, 8]          73,856\n",
            "             ReLU-14            [-1, 128, 8, 8]               0\n",
            "           Conv2d-15            [-1, 128, 8, 8]         147,584\n",
            "             ReLU-16            [-1, 128, 8, 8]               0\n",
            "           Conv2d-17            [-1, 128, 8, 8]         147,584\n",
            "             ReLU-18            [-1, 128, 8, 8]               0\n",
            "        AvgPool2d-19            [-1, 128, 1, 1]               0\n",
            "          Dropout-20                  [-1, 128]               0\n",
            "           Linear-21                   [-1, 10]           1,290\n",
            "================================================================\n",
            "Total params: 472,810\n",
            "Trainable params: 472,810\n",
            "Non-trainable params: 0\n",
            "----------------------------------------------------------------\n",
            "Input size (MB): 0.01\n",
            "Forward/backward pass size (MB): 2.22\n",
            "Params size (MB): 1.80\n",
            "Estimated Total Size (MB): 4.04\n",
            "----------------------------------------------------------------\n"
          ],
          "name": "stdout"
        },
        {
          "output_type": "stream",
          "text": [
            "\n"
          ],
          "name": "stderr"
        }
      ]
    },
    {
      "cell_type": "markdown",
      "metadata": {
        "id": "bzJhP45SnOiX",
        "colab_type": "text"
      },
      "source": [
        "### VGG + Weight Decay (5e-4)"
      ]
    },
    {
      "cell_type": "code",
      "metadata": {
        "id": "xjgrTRIhnOiY",
        "colab_type": "code",
        "colab": {}
      },
      "source": [
        "import math\n",
        "def fit_WD(model,train_loader):\n",
        "    device = next(model.parameters()).device.index\n",
        "    model.train()\n",
        "    optimizer = torch.optim.SGD(model.parameters(), lr=LEARNING_RATE, momentum=0.9, weight_decay=5e-4) ##### fill in this part using SGD optimizer with momentum of 0.9 and weight decay of 5e-4 #####\n",
        "    losses = []\n",
        "    for i, data in enumerate(train_loader):\n",
        "        image = data[0].type(torch.FloatTensor).cuda(device)\n",
        "        label = data[1].type(torch.LongTensor).cuda(device)\n",
        "\n",
        "        pred_label = model(image)\n",
        "        loss = CRITERION(pred_label, label)\n",
        "        losses.append(loss.item())\n",
        "\n",
        "        optimizer.zero_grad()\n",
        "        loss.backward()\n",
        "        optimizer.step()\n",
        "    avg_loss = sum(losses)/len(losses)\n",
        "    return avg_loss"
      ],
      "execution_count": 0,
      "outputs": []
    },
    {
      "cell_type": "code",
      "metadata": {
        "id": "sEZfM_a1nOig",
        "colab_type": "code",
        "outputId": "3471d7d7-9414-417c-ea7c-8f5f9d608cc4",
        "colab": {
          "base_uri": "https://localhost:8080/",
          "height": 595
        }
      },
      "source": [
        "resnet_wd_model = SimpleResNet().cuda()\n",
        "train_loss7 = []\n",
        "test_accuracy7 = []\n",
        "for epoch in tqdm(range(NUM_EPOCH)):\n",
        "    train_loss7.append(fit_WD(resnet_wd_model, train_loader))\n",
        "    test_accuracy7.append(eval(resnet_wd_model, test_loader))\n",
        "summary(resnet_wd_model, input_size = (3,32,32))"
      ],
      "execution_count": 0,
      "outputs": [
        {
          "output_type": "stream",
          "text": [
            "100%|██████████| 50/50 [10:12<00:00, 12.31s/it]"
          ],
          "name": "stderr"
        },
        {
          "output_type": "stream",
          "text": [
            "----------------------------------------------------------------\n",
            "        Layer (type)               Output Shape         Param #\n",
            "================================================================\n",
            "            Conv2d-1           [-1, 32, 32, 32]             896\n",
            "              ReLU-2           [-1, 32, 32, 32]               0\n",
            "            Conv2d-3           [-1, 32, 32, 32]           9,248\n",
            "              ReLU-4           [-1, 32, 32, 32]               0\n",
            "         MaxPool2d-5           [-1, 32, 16, 16]               0\n",
            "            Conv2d-6           [-1, 64, 16, 16]          18,496\n",
            "              ReLU-7           [-1, 64, 16, 16]               0\n",
            "            Conv2d-8           [-1, 64, 16, 16]          36,928\n",
            "              ReLU-9           [-1, 64, 16, 16]               0\n",
            "           Conv2d-10           [-1, 64, 16, 16]          36,928\n",
            "             ReLU-11           [-1, 64, 16, 16]               0\n",
            "        MaxPool2d-12             [-1, 64, 8, 8]               0\n",
            "           Conv2d-13            [-1, 128, 8, 8]          73,856\n",
            "             ReLU-14            [-1, 128, 8, 8]               0\n",
            "           Conv2d-15            [-1, 128, 8, 8]         147,584\n",
            "             ReLU-16            [-1, 128, 8, 8]               0\n",
            "           Conv2d-17            [-1, 128, 8, 8]         147,584\n",
            "             ReLU-18            [-1, 128, 8, 8]               0\n",
            "        AvgPool2d-19            [-1, 128, 1, 1]               0\n",
            "           Linear-20                   [-1, 10]           1,290\n",
            "================================================================\n",
            "Total params: 472,810\n",
            "Trainable params: 472,810\n",
            "Non-trainable params: 0\n",
            "----------------------------------------------------------------\n",
            "Input size (MB): 0.01\n",
            "Forward/backward pass size (MB): 2.22\n",
            "Params size (MB): 1.80\n",
            "Estimated Total Size (MB): 4.04\n",
            "----------------------------------------------------------------\n"
          ],
          "name": "stdout"
        },
        {
          "output_type": "stream",
          "text": [
            "\n"
          ],
          "name": "stderr"
        }
      ]
    },
    {
      "cell_type": "code",
      "metadata": {
        "id": "ci7htUrNxSqT",
        "colab_type": "code",
        "outputId": "825ac550-bb64-4e12-8ea9-9086cc0f60dc",
        "colab": {
          "base_uri": "https://localhost:8080/",
          "height": 591
        }
      },
      "source": [
        "# loss per epoch\n",
        "plotData([(train_loss4, 'ResNet vanilla'),(train_loss5, 'with Batch Normalization'), (train_loss6, 'with Dropout'), (train_loss7, 'with Weight Decay')], 'Epochs', 'Loss', NUM_EPOCH)\n",
        "\n",
        "# accuracy per epoch\n",
        "plotData([(test_accuracy4, 'ResNet vanilla'),(test_accuracy5, 'with Batch Normalization'), (test_accuracy6, 'with Dropout'), (test_accuracy7, 'with Weight Decay')], 'Epochs', 'Accuracy', NUM_EPOCH)\n"
      ],
      "execution_count": 0,
      "outputs": [
        {
          "output_type": "display_data",
          "data": {
            "image/png": "[encoded data removed]",
            "text/plain": [
              "<Figure size 432x288 with 1 Axes>"
            ]
          },
          "metadata": {
            "tags": []
          }
        },
        {
          "output_type": "display_data",
          "data": {
            "image/png": "[encoded data removed]",
            "text/plain": [
              "<Figure size 432x288 with 1 Axes>"
            ]
          },
          "metadata": {
            "tags": []
          }
        }
      ]
    },
    {
      "cell_type": "code",
      "metadata": {
        "id": "oaYFVH1sEJS3",
        "colab_type": "code",
        "outputId": "4931e8d0-c65f-4508-b1a5-fa175e1ae303",
        "colab": {
          "base_uri": "https://localhost:8080/",
          "height": 54
        }
      },
      "source": [
        "\n",
        "\n",
        "\n",
        "# Different plotting techniques \n",
        "'''\n",
        "fig, ax = plt.subplots()\n",
        "ax.plot(range(NUM_EPOCH), listToBePlotted)\n",
        "ax.set(xlabel='Epochs', ylabel='Loss',\n",
        "       title=\"Loss Graph\")\n",
        "ax.grid()\n",
        "\n",
        "    ax.plot(x, real(x), label=\"real\")\n",
        "    ax.plot(x, fx(x), label=\"fx\")\n",
        "    ax.legend()\n",
        "    ax.set(xlabel='x', ylabel='y', title=title)\n",
        "    ax.grid()\n",
        "    if save:\n",
        "        plt.savefig('title text'.format(title=title), bbox_inches='tight')\n",
        "'''"
      ],
      "execution_count": 0,
      "outputs": [
        {
          "output_type": "execute_result",
          "data": {
            "text/plain": [
              "'\\nfig, ax = plt.subplots()\\nax.plot(range(NUM_EPOCH), train_loss1)\\nax.set(xlabel=\\'Epochs\\', ylabel=\\'Loss\\',\\n       title=\"Loss Graph\")\\nax.grid()\\n\\n    ax.plot(x, real(x), label=\"real\")\\n    ax.plot(x, fx(x), label=\"fx\")\\n    ax.legend()\\n    ax.set(xlabel=\\'x\\', ylabel=\\'y\\', title=title)\\n    ax.grid()\\n    if save:\\n        plt.savefig(\\'title text\\'.format(title=title), bbox_inches=\\'tight\\')\\n'"
            ]
          },
          "metadata": {
            "tags": []
          },
          "execution_count": 24
        }
      ]
    }
  ]
}